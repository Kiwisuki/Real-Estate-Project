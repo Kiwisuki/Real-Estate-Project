{
 "cells": [
  {
   "cell_type": "code",
   "execution_count": 1,
   "id": "ef56b377",
   "metadata": {},
   "outputs": [],
   "source": [
    "url = 'https://www.aruodas.lt/butai-vilniuje-senamiestyje-a-vivulskio-g-gyvenamoji-paskirtis-balkonas-naujai-ir-1-3246359/?return_url=%2Fbutai%2Fvilniuje%2F%3Ffrom_search%3D1%26change_region%3D1%26FPriceMin%3D45000%26FPriceMax%3D90000%26obj%3D1%26FRegion%3D461%26FDistrict%3D1&fbclid=IwAR3Gp6KuMmc7BTRx9xOctUIZFqITY8uYc1EHbtTH-DV8nGmBPAaXnjFaH0g'"
   ]
  },
  {
   "cell_type": "code",
   "execution_count": 7,
   "id": "0974986a",
   "metadata": {},
   "outputs": [
    {
     "data": {
      "text/plain": [
       "'1-3246359'"
      ]
     },
     "execution_count": 7,
     "metadata": {},
     "output_type": "execute_result"
    }
   ],
   "source": [
    "'www.aruodas.lt/' + '1-' + url.split('1-')[1][0:7]"
   ]
  },
  {
   "cell_type": "code",
   "execution_count": null,
   "id": "b6d1fc2d",
   "metadata": {},
   "outputs": [],
   "source": []
  }
 ],
 "metadata": {
  "kernelspec": {
   "display_name": "Python 3 (ipykernel)",
   "language": "python",
   "name": "python3"
  },
  "language_info": {
   "codemirror_mode": {
    "name": "ipython",
    "version": 3
   },
   "file_extension": ".py",
   "mimetype": "text/x-python",
   "name": "python",
   "nbconvert_exporter": "python",
   "pygments_lexer": "ipython3",
   "version": "3.9.12"
  }
 },
 "nbformat": 4,
 "nbformat_minor": 5
}
