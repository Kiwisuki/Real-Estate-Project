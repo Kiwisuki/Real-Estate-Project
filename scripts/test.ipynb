{
 "cells": [
  {
   "cell_type": "code",
   "execution_count": 1,
   "id": "24d38bb5",
   "metadata": {},
   "outputs": [],
   "source": [
    "from prod import get_prediction"
   ]
  },
  {
   "cell_type": "code",
   "execution_count": 2,
   "id": "084b6ac1",
   "metadata": {},
   "outputs": [],
   "source": [
    "from scraping_tools import *"
   ]
  },
  {
   "cell_type": "code",
   "execution_count": 4,
   "id": "8d089f18",
   "metadata": {},
   "outputs": [
    {
     "name": "stderr",
     "output_type": "stream",
     "text": [
      "WARNING:root:Get Error: https://www.aruodas.lt/namai-vilniuje-kalnenuose-ukrainieciu-g-parduodamas-120-kvm-naujai-irengtas-2-1506118/?utm_source=aruodas&utm_medium=banner&utm_campaign=savibanner-np-frontpage&return_url=%2F%3Fobj%3D1  \n",
      " \n",
      " [WinError 10054] An existing connection was forcibly closed by the remote host\n"
     ]
    },
    {
     "data": {
      "text/plain": [
       "{' Plotas: ': ' 120 m² ',\n",
       " ' Sklypo plotas: ': ' 4,07 a ',\n",
       " ' Kambarių sk.: ': ' 4 ',\n",
       " ' Aukštų sk.: ': ' 2 ',\n",
       " ' Metai: ': ' 2022 ',\n",
       " ' Pastato tipas: ': ' Mūrinis ',\n",
       " ' Namo tipas: ': ' Namas (gyvenamasis) ',\n",
       " ' Šildymas: ': ' Aeroterminis ',\n",
       " ' Vanduo: ': ' Artezinis ',\n",
       " 'Įrengimas:': ' Įrengtas ',\n",
       " ' Artimiausias vandens telkinys: ': ' Ežeras ',\n",
       " ' Pastato energijos suvartojimo klasė: ': ' A+ ',\n",
       " ' Ypatybės: ': ' Elektra Internetas Kabelinė televizija ',\n",
       " ' Papildomos patalpos: ': ' Rūbinė Terasa ',\n",
       " ' Papildoma įranga: ': ' Su baldais Šaldytuvas Šildomos grindys Virtuvės komplektas Viryklė Plastikiniai vamzdžiai Indaplovė Rekuperacinė sistema ',\n",
       " ' Apsauga: ': ' Aptverta teritorija Signalizacija Šarvuotos durys ',\n",
       " 'Nuoroda': 'www.aruodas.lt/2-1506118',\n",
       " 'Įdėtas': '2022-11-14',\n",
       " 'Redaguotas': '2022-11-16',\n",
       " 'Įsiminė': '16',\n",
       " 'Peržiūrėjo': '867/93 (iš viso/šiandien)',\n",
       " 'Artimiausias darželis': '~ 1,1 km ',\n",
       " 'Artimiausia mokymo įstaiga': '~ 900 m ',\n",
       " 'Artimiausia parduotuvė': '~ 1 km ',\n",
       " 'Viešojo transporto stotelė': '~ 640 m',\n",
       " 'Nusikaltimai 500 m spinduliu praėjusį mėnesį': '0',\n",
       " 'Address': ' Vilnius, Kalnėnai, Ukrainiečių g., mūrinis namas ',\n",
       " 'Price': '295000€',\n",
       " 'Photos': ['https://aruodas-img.dgn.lt/object_62_107103236/vilnius-kalnenai-ukrainieciu-g-murinis.jpg',\n",
       "  'https://aruodas-img.dgn.lt/object_62_107103358/vilnius-kalnenai-ukrainieciu-g-murinis.jpg',\n",
       "  'https://aruodas-img.dgn.lt/object_62_107103290/vilnius-kalnenai-ukrainieciu-g-murinis.jpg',\n",
       "  'https://aruodas-img.dgn.lt/object_62_107103314/vilnius-kalnenai-ukrainieciu-g-murinis.jpg',\n",
       "  'https://aruodas-img.dgn.lt/object_62_107103308/vilnius-kalnenai-ukrainieciu-g-murinis.jpg',\n",
       "  'https://aruodas-img.dgn.lt/object_62_107103362/vilnius-kalnenai-ukrainieciu-g-murinis.jpg',\n",
       "  'https://aruodas-img.dgn.lt/object_62_107103294/vilnius-kalnenai-ukrainieciu-g-murinis.jpg',\n",
       "  'https://aruodas-img.dgn.lt/object_62_107103312/vilnius-kalnenai-ukrainieciu-g-murinis.jpg',\n",
       "  'https://aruodas-img.dgn.lt/object_62_107103240/vilnius-kalnenai-ukrainieciu-g-murinis.jpg',\n",
       "  'https://aruodas-img.dgn.lt/object_62_107103260/vilnius-kalnenai-ukrainieciu-g-murinis.jpg',\n",
       "  'https://aruodas-img.dgn.lt/object_62_107103356/vilnius-kalnenai-ukrainieciu-g-murinis.jpg',\n",
       "  'https://aruodas-img.dgn.lt/object_62_107103258/vilnius-kalnenai-ukrainieciu-g-murinis.jpg',\n",
       "  'https://aruodas-img.dgn.lt/object_62_107103238/vilnius-kalnenai-ukrainieciu-g-murinis.jpg',\n",
       "  'https://aruodas-img.dgn.lt/object_62_107103320/vilnius-kalnenai-ukrainieciu-g-murinis.jpg',\n",
       "  'https://aruodas-img.dgn.lt/object_62_107103310/vilnius-kalnenai-ukrainieciu-g-murinis.jpg',\n",
       "  'https://aruodas-img.dgn.lt/object_62_107103296/vilnius-kalnenai-ukrainieciu-g-murinis.jpg',\n",
       "  'https://aruodas-img.dgn.lt/object_62_107103354/vilnius-kalnenai-ukrainieciu-g-murinis.jpg',\n",
       "  'https://aruodas-img.dgn.lt/object_62_107103248/vilnius-kalnenai-ukrainieciu-g-murinis.jpg',\n",
       "  'https://aruodas-img.dgn.lt/object_62_107103302/vilnius-kalnenai-ukrainieciu-g-murinis.jpg',\n",
       "  'https://aruodas-img.dgn.lt/object_62_107103244/vilnius-kalnenai-ukrainieciu-g-murinis.jpg',\n",
       "  'https://aruodas-img.dgn.lt/object_62_107103256/vilnius-kalnenai-ukrainieciu-g-murinis.jpg',\n",
       "  'https://aruodas-img.dgn.lt/object_62_107103298/vilnius-kalnenai-ukrainieciu-g-murinis.jpg',\n",
       "  'https://aruodas-img.dgn.lt/object_62_107103300/vilnius-kalnenai-ukrainieciu-g-murinis.jpg',\n",
       "  'https://aruodas-img.dgn.lt/object_62_107103316/vilnius-kalnenai-ukrainieciu-g-murinis.jpg',\n",
       "  'https://aruodas-img.dgn.lt/object_62_107103292/vilnius-kalnenai-ukrainieciu-g-murinis.jpg',\n",
       "  'https://aruodas-img.dgn.lt/object_62_107103242/vilnius-kalnenai-ukrainieciu-g-murinis.jpg',\n",
       "  'https://aruodas-img.dgn.lt/object_62_107103322/vilnius-kalnenai-ukrainieciu-g-murinis.jpg',\n",
       "  'https://aruodas-img.dgn.lt/object_62_107103360/vilnius-kalnenai-ukrainieciu-g-murinis.jpg',\n",
       "  'https://aruodas-img.dgn.lt/object_62_107103318/vilnius-kalnenai-ukrainieciu-g-murinis.jpg',\n",
       "  'https://aruodas-img.dgn.lt/object_62_107103246/vilnius-kalnenai-ukrainieciu-g-murinis.jpg',\n",
       "  'https://aruodas-img.dgn.lt/object_62_107103254/vilnius-kalnenai-ukrainieciu-g-murinis.jpg',\n",
       "  'https://aruodas-img.dgn.lt/object_62_107103252/vilnius-kalnenai-ukrainieciu-g-murinis.jpg',\n",
       "  'https://aruodas-img.dgn.lt/object_62_107103250/vilnius-kalnenai-ukrainieciu-g-murinis.jpg'],\n",
       " 'Date scraped': '2022-11-21',\n",
       " 'Id': '2-1506118',\n",
       " 'Comment': '\\n\\n                Parduodamas 120 kv.m. naujai įrengtas individualus namas gražioje, aukštesnėje gamtinio reljefo vietoje, nuo kurios atsiveria vaizdas į tolį. Tai modernios architektūros funkcionaliai suplanuotas dviejų aukštų būstas. Laikui nepavaldūs architektūriniai sprendimai, apgalvotos detalės ir namus supanti gamtos ramybė – viskas jungiasi tarpusavyje, kad tarnautų kasdieniams patogumams ir visaverčiam poilsiui naujuose namuose. Čia rasite erdvią svetainės zoną, sujungtą su virtuve pirmame, bei tris miegamuosius ir vonios kambarį antrame aukšte. Aukštos namo vitrinos leis mėgautis natūralios šviesos gausa. Jaukiai įsitaisę terasoje, orientuotoje į pietvakarių pusę, galėsite kaitintis saulės spinduliuose, draugų kompanijoje skanauti griliaus patiekalus ar ramiai stebėti vakarėjančią dieną. Kieme vietos pakaks ir vaikų žaidimams.\\n\\nNAMO ĮRENGIMO APRAŠYMAS:\\n- Aukštos kokybės vinilo grindų danga;\\n- Sienos - dažytos;\\n- Lubos įtempiamos, apšvietimas;\\n- Vonios ir wc kambariuose – akmens masės plytelės, santechnika;\\n- Vidinės durys;\\n- Laiptų pakopos/turėklai;\\n- Virtuvės baldai su visa buitine technika;\\n- Šilumos siurblys, oras/vanduo - „Panasonic“ 7kW\\n- Išvedžiota rekuperacinė vėdinimo sistema;\\n\\n• ESMINĖ INFORMACIJA APIE NAMĄ \\n- Energinė klasė - A+;\\n- Plotas – 120 m²; \\n- 2 aukštai;\\n- Kambarių skaičius - 4; \\n- Plastikiniai, trijų stiklų, atitinkantys A++ klasę;\\n- Įėjimo į namą durys - šarvuotos; \\n- Įrengta šildymo sistema su šilumos siurbliu oras-vanduo;\\n- Grindinis šildymas;\\n\\n• KONSTRUKTYVAS-FASADAS: \\n- Pamatai - poliniai, gręžtiniai ir monolitinis gelžbetoninis rostverkas, apšiltinti putų polistirolu (20 cm);\\n- Išorinės sienos - namo laikančiosios konstrukcijos keraminių blokelių;\\n- Aukštų perdangos – 1 aukšto-monolitinė, 2 aukšto-surenkamų gelžbetoninio plokščių;\\n- Fasado apdaila pagal architektūrinės dalies brėžinius – dekoratyvinis tinkas, klinkerio apdailos plytelės;\\n- Fasadas apšiltintas neoporu 25cm;\\n- Stogas - gelžbetoninė konstrukcija;\\n- Stogas apšiltintas 400mm polisterolu, dengtas dviejų sluoksnių prilydoma bitumine danga;\\n- Apskardintas parapetas, sumontuota lietaus vandens surinkimo ir nuvedimo sistema;\\n- Išbetonuoti laiptai; \\n- Vidinės sienos - silikato blokeliai; \\n- Vidinės mūrinės sienos tinkuojamos gipsiniu tinku\\n- Grindys išbetonuotos; \\n- Įvesta elektros, sumontuota apskaitos dėžutė su saugikliais;\\n- Sumontuotos vidaus vandentiekio, nuotekų sistemos;\\n- Išvedžiota rekuperatoriaus sistema;\\n\\n• GERBŪVIS: \\n- Išklotos trinkelės kieme;\\n- Lauko apšvietimas;\\n- Įrengta nuogrinda aplink namą;\\n- Išlygintas augalinis sluoksnis, pasėta veja;\\n- Termo medienos terasa;\\n- Sklypas aptvertas tvora;\\n- Įrengiami automatiniai įvažiavimo į kiemą vartai; \\n- Sklypo plotas 4 arai;\\n\\n• KOMUNIKACIJOS: \\n- Šildymo tipas: oras-vanduo šilumos siurblys;\\n- Vanduo: gręžinys;\\n- Kanalizacija: biologiniai valymo įrenginiai;\\n- Elektra - 12 kW, 3-jų fazių. Į namą įvestas elektros įvadas, sumontuota elektros paskirstymo dėžutė; \\n- Šviesolaidžio interneto įvestis;\\n- Apsaugos sistemos;\\n\\n✔️ Kalnėnų mikrorajone asfaltuoti keliai, įrengti šaligatviai, LED gatvių apšvietimas, lietaus vandens surinkimo sistema; \\n✔️ Greta Karalienės Mortos mokykla;\\n✔️ Šalia gyvenvietės - Ribiškių kraštovaizdžio draustinis ir Pavilnių regioninis parkas;\\n✔️ Kalnėnų prieigose Maxima, Iki, Lidl parduotuvės;\\n✔️ Gyvenvietėje kursuoja viešasis transportas, 33 autobusas važiuoja pro Užupį, Katedrą iki Šiaurės miestelio;\\n✔️ 5 km iki Vilniaus senamiesčio;\\n✔️ Flamandų gatvėje, 5 minutės pėstute nuo parduodamų namų - projektuojama valstybinė mokykla, Kalnėnų progimnazija. Statybos darbai bus baigti iki 2025 metų pabaigos!\\n\\nMaloniai kviečiame apžiūrai Jums patogiu metu, daugiau informacijos telefonu.\\nGabrielius +37060345134            \\nRodyti visą aprašymą',\n",
       " 'Broker number': '+370 603 45134'}"
      ]
     },
     "execution_count": 4,
     "metadata": {},
     "output_type": "execute_result"
    }
   ],
   "source": [
    "scrape_ad('https://www.aruodas.lt/namai-vilniuje-kalnenuose-ukrainieciu-g-parduodamas-120-kvm-naujai-irengtas-2-1506118/?utm_source=aruodas&utm_medium=banner&utm_campaign=savibanner-np-frontpage&return_url=%2F%3Fobj%3D1')"
   ]
  },
  {
   "cell_type": "code",
   "execution_count": null,
   "id": "d3e2f082",
   "metadata": {},
   "outputs": [],
   "source": []
  }
 ],
 "metadata": {
  "kernelspec": {
   "display_name": "Python 3 (ipykernel)",
   "language": "python",
   "name": "python3"
  },
  "language_info": {
   "codemirror_mode": {
    "name": "ipython",
    "version": 3
   },
   "file_extension": ".py",
   "mimetype": "text/x-python",
   "name": "python",
   "nbconvert_exporter": "python",
   "pygments_lexer": "ipython3",
   "version": "3.9.13"
  }
 },
 "nbformat": 4,
 "nbformat_minor": 5
}
