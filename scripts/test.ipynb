{
 "cells": [
  {
   "cell_type": "code",
   "execution_count": 1,
   "id": "24d38bb5",
   "metadata": {},
   "outputs": [],
   "source": [
    "from prod import get_prediction"
   ]
  },
  {
   "cell_type": "code",
   "execution_count": 2,
   "id": "6afae099",
   "metadata": {},
   "outputs": [
    {
     "name": "stderr",
     "output_type": "stream",
     "text": [
      "WARNING:urllib3.connectionpool:Retrying (Retry(total=2, connect=None, read=None, redirect=None, status=None)) after connection broken by 'NewConnectionError('<urllib3.connection.HTTPConnection object at 0x000002546F59A790>: Failed to establish a new connection: [WinError 10061] No connection could be made because the target machine actively refused it')': /session/e7ee153af120e85726ea4bc41acae60e\n",
      "WARNING:urllib3.connectionpool:Retrying (Retry(total=1, connect=None, read=None, redirect=None, status=None)) after connection broken by 'NewConnectionError('<urllib3.connection.HTTPConnection object at 0x000002546E762670>: Failed to establish a new connection: [WinError 10061] No connection could be made because the target machine actively refused it')': /session/e7ee153af120e85726ea4bc41acae60e\n",
      "WARNING:urllib3.connectionpool:Retrying (Retry(total=0, connect=None, read=None, redirect=None, status=None)) after connection broken by 'NewConnectionError('<urllib3.connection.HTTPConnection object at 0x000002546FA56C10>: Failed to establish a new connection: [WinError 10061] No connection could be made because the target machine actively refused it')': /session/e7ee153af120e85726ea4bc41acae60e\n"
     ]
    },
    {
     "data": {
      "text/plain": [
       "(960, 310600, 329000)"
      ]
     },
     "execution_count": 2,
     "metadata": {},
     "output_type": "execute_result"
    }
   ],
   "source": [
    "get_prediction('https://www.aruodas.lt/butai-vilniuje-antakalnyje-zirgo-sodu-1-oji-g-parduodamas-isskirtinis-erdvus-93-kvm-1-3244835/')"
   ]
  },
  {
   "cell_type": "code",
   "execution_count": 3,
   "id": "048d7e65",
   "metadata": {},
   "outputs": [
    {
     "name": "stderr",
     "output_type": "stream",
     "text": [
      "WARNING:urllib3.connectionpool:Retrying (Retry(total=2, connect=None, read=None, redirect=None, status=None)) after connection broken by 'NewConnectionError('<urllib3.connection.HTTPConnection object at 0x00000254733F1E20>: Failed to establish a new connection: [WinError 10061] No connection could be made because the target machine actively refused it')': /session/cabc5eed0a5a472b2caee211d5f904f8\n",
      "WARNING:urllib3.connectionpool:Retrying (Retry(total=1, connect=None, read=None, redirect=None, status=None)) after connection broken by 'NewConnectionError('<urllib3.connection.HTTPConnection object at 0x000002546EAFC8E0>: Failed to establish a new connection: [WinError 10061] No connection could be made because the target machine actively refused it')': /session/cabc5eed0a5a472b2caee211d5f904f8\n",
      "WARNING:urllib3.connectionpool:Retrying (Retry(total=0, connect=None, read=None, redirect=None, status=None)) after connection broken by 'NewConnectionError('<urllib3.connection.HTTPConnection object at 0x00000254734EA490>: Failed to establish a new connection: [WinError 10061] No connection could be made because the target machine actively refused it')': /session/cabc5eed0a5a472b2caee211d5f904f8\n"
     ]
    },
    {
     "data": {
      "text/plain": [
       "(860, 217700, 800)"
      ]
     },
     "execution_count": 3,
     "metadata": {},
     "output_type": "execute_result"
    }
   ],
   "source": [
    "get_prediction('https://www.aruodas.lt/butu-nuoma-vilniuje-zveryne-latviu-g-puikus-suremontuotas-butas-renovuotame-name-4-1171061/')"
   ]
  },
  {
   "cell_type": "code",
   "execution_count": null,
   "id": "084b6ac1",
   "metadata": {},
   "outputs": [],
   "source": []
  }
 ],
 "metadata": {
  "kernelspec": {
   "display_name": "Python 3 (ipykernel)",
   "language": "python",
   "name": "python3"
  },
  "language_info": {
   "codemirror_mode": {
    "name": "ipython",
    "version": 3
   },
   "file_extension": ".py",
   "mimetype": "text/x-python",
   "name": "python",
   "nbconvert_exporter": "python",
   "pygments_lexer": "ipython3",
   "version": "3.9.12"
  }
 },
 "nbformat": 4,
 "nbformat_minor": 5
}
