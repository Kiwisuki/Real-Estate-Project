{
 "cells": [
  {
   "cell_type": "code",
   "execution_count": 1,
   "id": "24d38bb5",
   "metadata": {},
   "outputs": [],
   "source": [
    "from prod import get_prediction"
   ]
  },
  {
   "cell_type": "code",
   "execution_count": 2,
   "id": "6afae099",
   "metadata": {},
   "outputs": [
    {
     "name": "stderr",
     "output_type": "stream",
     "text": [
      "WARNING:urllib3.connectionpool:Retrying (Retry(total=2, connect=None, read=None, redirect=None, status=None)) after connection broken by 'NewConnectionError('<urllib3.connection.HTTPConnection object at 0x0000021CA83FF340>: Failed to establish a new connection: [WinError 10061] No connection could be made because the target machine actively refused it')': /session/4fb2c72c5a7abca9075246898f2cd3f4\n",
      "WARNING:urllib3.connectionpool:Retrying (Retry(total=1, connect=None, read=None, redirect=None, status=None)) after connection broken by 'NewConnectionError('<urllib3.connection.HTTPConnection object at 0x0000021CA8ACC790>: Failed to establish a new connection: [WinError 10061] No connection could be made because the target machine actively refused it')': /session/4fb2c72c5a7abca9075246898f2cd3f4\n",
      "WARNING:urllib3.connectionpool:Retrying (Retry(total=0, connect=None, read=None, redirect=None, status=None)) after connection broken by 'NewConnectionError('<urllib3.connection.HTTPConnection object at 0x0000021CA76745B0>: Failed to establish a new connection: [WinError 10061] No connection could be made because the target machine actively refused it')': /session/4fb2c72c5a7abca9075246898f2cd3f4\n"
     ]
    },
    {
     "data": {
      "text/plain": [
       "(360800, 329000)"
      ]
     },
     "execution_count": 2,
     "metadata": {},
     "output_type": "execute_result"
    }
   ],
   "source": [
    "get_prediction('https://www.aruodas.lt/butai-vilniuje-antakalnyje-zirgo-sodu-1-oji-g-parduodamas-isskirtinis-erdvus-93-kvm-1-3244835/')"
   ]
  },
  {
   "cell_type": "code",
   "execution_count": null,
   "id": "b912599b",
   "metadata": {},
   "outputs": [],
   "source": []
  }
 ],
 "metadata": {
  "kernelspec": {
   "display_name": "Python 3 (ipykernel)",
   "language": "python",
   "name": "python3"
  },
  "language_info": {
   "codemirror_mode": {
    "name": "ipython",
    "version": 3
   },
   "file_extension": ".py",
   "mimetype": "text/x-python",
   "name": "python",
   "nbconvert_exporter": "python",
   "pygments_lexer": "ipython3",
   "version": "3.9.12"
  }
 },
 "nbformat": 4,
 "nbformat_minor": 5
}
