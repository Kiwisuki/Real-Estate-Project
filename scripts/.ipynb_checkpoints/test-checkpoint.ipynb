{
 "cells": [
  {
   "cell_type": "code",
   "execution_count": 1,
   "id": "24d38bb5",
   "metadata": {},
   "outputs": [],
   "source": [
    "from prod import get_prediction"
   ]
  },
  {
   "cell_type": "code",
   "execution_count": 2,
   "id": "6afae099",
   "metadata": {},
   "outputs": [
    {
     "name": "stderr",
     "output_type": "stream",
     "text": [
      "WARNING:urllib3.connectionpool:Retrying (Retry(total=2, connect=None, read=None, redirect=None, status=None)) after connection broken by 'NewConnectionError('<urllib3.connection.HTTPConnection object at 0x000001F8B358FF70>: Failed to establish a new connection: [WinError 10061] No connection could be made because the target machine actively refused it')': /session/4c43c760c0183a67b208df6def8a60e8\n",
      "WARNING:urllib3.connectionpool:Retrying (Retry(total=1, connect=None, read=None, redirect=None, status=None)) after connection broken by 'NewConnectionError('<urllib3.connection.HTTPConnection object at 0x000001F8B487E2E0>: Failed to establish a new connection: [WinError 10061] No connection could be made because the target machine actively refused it')': /session/4c43c760c0183a67b208df6def8a60e8\n",
      "WARNING:urllib3.connectionpool:Retrying (Retry(total=0, connect=None, read=None, redirect=None, status=None)) after connection broken by 'NewConnectionError('<urllib3.connection.HTTPConnection object at 0x000001F8B34158B0>: Failed to establish a new connection: [WinError 10061] No connection could be made because the target machine actively refused it')': /session/4c43c760c0183a67b208df6def8a60e8\n"
     ]
    },
    {
     "data": {
      "text/plain": [
       "(324200, 329000)"
      ]
     },
     "execution_count": 2,
     "metadata": {},
     "output_type": "execute_result"
    }
   ],
   "source": [
    "get_prediction('https://www.aruodas.lt/butai-vilniuje-antakalnyje-zirgo-sodu-1-oji-g-parduodamas-isskirtinis-erdvus-93-kvm-1-3244835/')"
   ]
  },
  {
   "cell_type": "code",
   "execution_count": 3,
   "id": "b912599b",
   "metadata": {},
   "outputs": [],
   "source": [
    "import pickle\n",
    "with open('fold_ids.pickle', 'rb') as handle:\n",
    "    folds = pickle.load(handle)"
   ]
  },
  {
   "cell_type": "code",
   "execution_count": 4,
   "id": "41f3fd26",
   "metadata": {},
   "outputs": [],
   "source": [
    "from prod import get_id"
   ]
  },
  {
   "cell_type": "code",
   "execution_count": 7,
   "id": "f3017734",
   "metadata": {},
   "outputs": [
    {
     "name": "stdout",
     "output_type": "stream",
     "text": [
      "False\n",
      "False\n",
      "False\n",
      "False\n",
      "False\n",
      "False\n",
      "False\n",
      "False\n",
      "False\n",
      "False\n",
      "False\n",
      "False\n",
      "False\n",
      "False\n",
      "False\n",
      "False\n",
      "False\n",
      "False\n",
      "False\n",
      "False\n"
     ]
    }
   ],
   "source": [
    "for fold in folds:\n",
    "    print('2-1468272' in fold)"
   ]
  },
  {
   "cell_type": "code",
   "execution_count": null,
   "id": "048d7e65",
   "metadata": {},
   "outputs": [],
   "source": []
  }
 ],
 "metadata": {
  "kernelspec": {
   "display_name": "Python 3 (ipykernel)",
   "language": "python",
   "name": "python3"
  },
  "language_info": {
   "codemirror_mode": {
    "name": "ipython",
    "version": 3
   },
   "file_extension": ".py",
   "mimetype": "text/x-python",
   "name": "python",
   "nbconvert_exporter": "python",
   "pygments_lexer": "ipython3",
   "version": "3.9.12"
  }
 },
 "nbformat": 4,
 "nbformat_minor": 5
}
